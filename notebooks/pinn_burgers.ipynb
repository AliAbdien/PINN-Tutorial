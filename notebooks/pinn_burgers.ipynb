{
 "cells": [
  {
   "cell_type": "markdown",
   "id": "92ce59bd",
   "metadata": {},
   "source": [
    "# 🔥 Solving the Burgers' Equation using Physics-Informed Neural Networks (PINNs)"
   ]
  },
  {
   "cell_type": "markdown",
   "id": "20a99574",
   "metadata": {},
   "source": [
    "We solve the 1D nonlinear Burgers' equation:\n",
    "\n",
    "\\[ \\frac{\\partial u}{\\partial t} + u \\frac{\\partial u}{\\partial x} = \\nu \\frac{\\partial^2 u}{\\partial x^2} \\]"
   ]
  },
  {
   "cell_type": "code",
   "execution_count": null,
   "id": "adad2a88",
   "metadata": {},
   "outputs": [],
   "source": [
    "import torch\n",
    "import torch.nn as nn\n",
    "import torch.optim as optim\n",
    "import numpy as np\n",
    "import matplotlib.pyplot as plt"
   ]
  },
  {
   "cell_type": "code",
   "execution_count": null,
   "id": "b21d9a53",
   "metadata": {},
   "outputs": [],
   "source": [
    "device = torch.device('cpu')"
   ]
  },
  {
   "cell_type": "code",
   "execution_count": null,
   "id": "9effddca",
   "metadata": {},
   "outputs": [],
   "source": [
    "class PINN(nn.Module):\n",
    "    def __init__(self):\n",
    "        super(PINN, self).__init__()\n",
    "        self.net = nn.Sequential(\n",
    "            nn.Linear(2, 50),\n",
    "            nn.Tanh(),\n",
    "            nn.Linear(50, 50),\n",
    "            nn.Tanh(),\n",
    "            nn.Linear(50, 1)\n",
    "        )\n",
    "\n",
    "    def forward(self, x, t):\n",
    "        xt = torch.cat([x, t], dim=1)\n",
    "        return self.net(xt)"
   ]
  },
  {
   "cell_type": "code",
   "execution_count": null,
   "id": "9d06298d",
   "metadata": {},
   "outputs": [],
   "source": [
    "def generate_data(N_f):\n",
    "    x = torch.rand(N_f, 1, device=device, requires_grad=True)\n",
    "    t = torch.rand(N_f, 1, device=device, requires_grad=True)\n",
    "    return x, t"
   ]
  },
  {
   "cell_type": "code",
   "execution_count": null,
   "id": "fd85d50a",
   "metadata": {},
   "outputs": [],
   "source": [
    "def compute_loss(model, x, t, nu=0.01/np.pi):\n",
    "    u = model(x, t)\n",
    "    u_t = torch.autograd.grad(u, t, grad_outputs=torch.ones_like(u), create_graph=True)[0]\n",
    "    u_x = torch.autograd.grad(u, x, grad_outputs=torch.ones_like(u), create_graph=True)[0]\n",
    "    u_xx = torch.autograd.grad(u_x, x, grad_outputs=torch.ones_like(u), create_graph=True)[0]\n",
    "    f = u_t + u * u_x - nu * u_xx\n",
    "    return torch.mean(f**2)"
   ]
  },
  {
   "cell_type": "code",
   "execution_count": null,
   "id": "6d94c5b7",
   "metadata": {},
   "outputs": [],
   "source": [
    "model = PINN().to(device)\n",
    "optimizer = optim.Adam(model.parameters(), lr=1e-3)\n",
    "\n",
    "epochs = 2000\n",
    "N_f = 1000\n",
    "loss_history = []\n",
    "\n",
    "for epoch in range(epochs):\n",
    "    optimizer.zero_grad()\n",
    "    x_f, t_f = generate_data(N_f)\n",
    "    loss = compute_loss(model, x_f, t_f)\n",
    "    loss.backward()\n",
    "    optimizer.step()\n",
    "\n",
    "    if epoch % 100 == 0:\n",
    "        loss_history.append(loss.item())\n",
    "        print(f\"Epoch {epoch}, Loss: {loss.item()}\")"
   ]
  },
  {
   "cell_type": "code",
   "execution_count": null,
   "id": "0ae2826d",
   "metadata": {},
   "outputs": [],
   "source": [
    "plt.plot(range(0, epochs, 100), loss_history)\n",
    "plt.xlabel('Epoch')\n",
    "plt.ylabel('Loss')\n",
    "plt.title('PINN Training - Burgers Equation')\n",
    "plt.grid(True)\n",
    "plt.show()"
   ]
  },
  {
   "cell_type": "code",
   "execution_count": null,
   "id": "eba8b75e",
   "metadata": {},
   "outputs": [],
   "source": [
    "x_pred = torch.linspace(0, 1, 100).reshape(-1, 1).to(device)\n",
    "t_pred = torch.ones_like(x_pred) * 0.5\n",
    "\n",
    "with torch.no_grad():\n",
    "    u_pred = model(x_pred, t_pred).cpu().numpy()\n",
    "\n",
    "plt.plot(x_pred.cpu().numpy(), u_pred)\n",
    "plt.xlabel('x')\n",
    "plt.ylabel('u(x, t=0.5)')\n",
    "plt.title('Prediction at t = 0.5')\n",
    "plt.grid(True)\n",
    "plt.show()"
   ]
  }
 ],
 "metadata": {},
 "nbformat": 4,
 "nbformat_minor": 5
}
